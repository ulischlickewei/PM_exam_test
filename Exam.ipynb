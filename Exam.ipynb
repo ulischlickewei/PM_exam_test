{
 "cells": [
  {
   "cell_type": "markdown",
   "id": "e11bc03b-53d9-406d-8542-e3a75821e123",
   "metadata": {
    "editable": false,
    "slideshow": {
     "slide_type": ""
    },
    "tags": []
   },
   "source": [
    "# Predictive modeling - final exam summer term 2024"
   ]
  },
  {
   "cell_type": "markdown",
   "id": "4e4190cd-8dd7-49f4-b17b-0b571c600aeb",
   "metadata": {
    "editable": false,
    "slideshow": {
     "slide_type": ""
    },
    "tags": []
   },
   "source": [
    "**Date**: 6.7.2024"
   ]
  },
  {
   "cell_type": "markdown",
   "id": "afc617b9-1a7e-4c30-9ae0-ba7c40031645",
   "metadata": {
    "editable": false,
    "slideshow": {
     "slide_type": ""
    },
    "tags": []
   },
   "source": [
    "**Matriculation number**: Please assign your matriculation number to the variable `matriculation_number` by replacing the digits `123` in the cell below with your 8 digits matriculation number."
   ]
  },
  {
   "cell_type": "code",
   "execution_count": null,
   "id": "724c1905-bc24-48ab-b5e9-6e57710eefe8",
   "metadata": {
    "editable": true,
    "slideshow": {
     "slide_type": ""
    },
    "tags": []
   },
   "outputs": [],
   "source": [
    "matriculation_number = 123"
   ]
  },
  {
   "cell_type": "markdown",
   "id": "c0554997-8e31-4c78-abd6-1054a085fee6",
   "metadata": {
    "editable": false,
    "slideshow": {
     "slide_type": ""
    },
    "tags": []
   },
   "source": [
    "## Instructions (please read this part carefully)\n",
    "- This exam is carried out in this Jupyter Notebook. All tasks are part of the notebook, all your answers are saved in this notebook.\n",
    "- Please make sure that you enter your **matriculation number** in the cell above.\n",
    "- At the end of the exam **please run the last cell of this notebook** to make sure the notebook is **exported to PDF**. It is not a problem if you run this cell more than 1 time, each time you run it, the current version of the notebook is exported to PDF while the previous one is overwritten."
   ]
  },
  {
   "cell_type": "markdown",
   "id": "3b18069c-1910-4077-a543-cfc969289d5f",
   "metadata": {
    "editable": false,
    "slideshow": {
     "slide_type": ""
    },
    "tags": []
   },
   "source": [
    "## Task 1\n",
    "Compute 1+3."
   ]
  },
  {
   "cell_type": "code",
   "execution_count": null,
   "id": "3cf47b15-9ea6-4556-bf2b-530bec3ebbf0",
   "metadata": {
    "editable": true,
    "slideshow": {
     "slide_type": ""
    },
    "tags": []
   },
   "outputs": [],
   "source": [
    "one_plus_three = ..."
   ]
  },
  {
   "cell_type": "code",
   "execution_count": null,
   "id": "f8a7e35a-d0cb-427d-baf9-cae8eddb3f83",
   "metadata": {
    "editable": true,
    "slideshow": {
     "slide_type": ""
    },
    "tags": []
   },
   "outputs": [],
   "source": [
    "### ADDITIONAL TASKS"
   ]
  },
  {
   "cell_type": "markdown",
   "id": "ff5d0d6d-d288-47f6-98a8-73fe551de8dc",
   "metadata": {
    "editable": false,
    "slideshow": {
     "slide_type": ""
    },
    "tags": []
   },
   "source": [
    "## Task XX\n",
    "Save your final Notebook by pressing File->Save. Make sure you assigned your 8 digits to the variable `matriculation_number` in one of the first cells of this notebook.  \n",
    "\n",
    "After this, run the cell below to export you Notebook to PDF format."
   ]
  },
  {
   "cell_type": "code",
   "execution_count": null,
   "id": "4a8c7e4f-924c-4e7a-a6dd-9dff2d52b36d",
   "metadata": {
    "editable": false,
    "slideshow": {
     "slide_type": ""
    },
    "tags": []
   },
   "outputs": [],
   "source": [
    "filename = str(matriculation_number) + '_exam.pdf'\n",
    "!jupyter nbconvert Exam.ipynb --to pdf --output $filename"
   ]
  }
 ],
 "metadata": {
  "kernelspec": {
   "display_name": "Python 3 (ipykernel)",
   "language": "python",
   "name": "python3"
  },
  "language_info": {
   "codemirror_mode": {
    "name": "ipython",
    "version": 3
   },
   "file_extension": ".py",
   "mimetype": "text/x-python",
   "name": "python",
   "nbconvert_exporter": "python",
   "pygments_lexer": "ipython3",
   "version": "3.9.7"
  }
 },
 "nbformat": 4,
 "nbformat_minor": 5
}
